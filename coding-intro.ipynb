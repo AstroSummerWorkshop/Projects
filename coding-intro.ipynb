{
 "cells": [
  {
   "cell_type": "markdown",
   "id": "d5603cfc-a1a5-4079-a463-5e57e2ccb891",
   "metadata": {},
   "source": [
    "# Intro\n",
    "\n",
    "This notebook will help us get started with the basics of using python for some simple tasks. For a more detailed description of what we're going to explore in this notebook, you can look at [this textbook](https://prappleizer.github.io/textbook.pdf) (chapter 2 gives a good overview). \n",
    "\n",
    "## Part I: Variables\n",
    "At the most basic level, the goal of writing a computer program is to efficiently perform repetitive or complex tasks that would otherwise be prohibitively difficult to complete by hand. This is accomplished by *declaring* variables, such that we can set up programs that can be interpreted and executed by the machine. By stringing together chains of commands, we can efficiently tackle increasingly complex problems. \n",
    "\n",
    "For a simple starting point, we can see that the computer functions just like a calculator and can carry out basic arithmetic directly (unlike [this kid](https://www.youtube.com/shorts/7hhQLozezak)):"
   ]
  },
  {
   "cell_type": "code",
   "execution_count": 1,
   "id": "37e25f98-ba37-4f8f-815a-a4f9c408a567",
   "metadata": {
    "tags": []
   },
   "outputs": [
    {
     "data": {
      "text/plain": [
       "19"
      ]
     },
     "execution_count": 1,
     "metadata": {},
     "output_type": "execute_result"
    }
   ],
   "source": [
    "9+10"
   ]
  },
  {
   "cell_type": "markdown",
   "id": "d286a69f-7977-477c-ace4-31882340305a",
   "metadata": {},
   "source": [
    "One could similarly carry out subtraction, multiplication, division, and exponentiation with the -, \\*, /, and ** symbols, respectively. We can equivalently accomplish this task by defining variables and executing an operation between them:"
   ]
  },
  {
   "cell_type": "code",
   "execution_count": 2,
   "id": "afa43e6d-de96-4286-b622-bdb918f03d19",
   "metadata": {
    "tags": []
   },
   "outputs": [
    {
     "name": "stdout",
     "output_type": "stream",
     "text": [
      "19\n"
     ]
    }
   ],
   "source": [
    "x = 9\n",
    "y = 10\n",
    "z = x+y\n",
    "print(z)"
   ]
  },
  {
   "cell_type": "markdown",
   "id": "3368c6f9-8866-475d-8290-890604c3af93",
   "metadata": {},
   "source": [
    "In this case, I've saved the numbers 9 and 10 into the variables x and y and saved their sum into the variable z. The utility of this is that now I can reference this calculation whenever I want by calling the variable name z!"
   ]
  },
  {
   "cell_type": "code",
   "execution_count": 3,
   "id": "6a97fffa-9c5e-4d6c-b5f9-9173b9ed3ba4",
   "metadata": {
    "tags": []
   },
   "outputs": [
    {
     "data": {
      "text/plain": [
       "38"
      ]
     },
     "execution_count": 3,
     "metadata": {},
     "output_type": "execute_result"
    }
   ],
   "source": [
    "2*z"
   ]
  },
  {
   "cell_type": "markdown",
   "id": "cfbeb4e9-6e9b-418b-a7cb-335a3566559a",
   "metadata": {},
   "source": [
    "In general, it is good practice to name your variables something intuitive (unlike my example above) so that when you return to them later in your program (or if someone else looks at your code) it's easy to identify what they represent. Let's apply what we learned above with a simple exercise. \n",
    "\n",
    "### Exercise I: Average Age\n",
    "Calculate the average age of everyone in your immediate family. Do this by defining a new, descriptive variable for each person and save the results in a final `average_age` variable."
   ]
  },
  {
   "cell_type": "code",
   "execution_count": null,
   "id": "b665f3d7-a59c-4350-8085-39611727d779",
   "metadata": {
    "tags": []
   },
   "outputs": [],
   "source": [
    "# your code here\n"
   ]
  },
  {
   "cell_type": "markdown",
   "id": "edabebd1-6a87-4be0-8b74-cbdf6a4daaed",
   "metadata": {},
   "source": [
    "## Part II: Data Types\n",
    "The variables above are what we traditionally think about when doing calculations--that is, integers and floats (read, regular numbers). You can verify this by using the `type()` command, as follows:"
   ]
  },
  {
   "cell_type": "code",
   "execution_count": 4,
   "id": "727e3085-e4c6-4dbf-b502-d0c5c34e1cde",
   "metadata": {
    "tags": []
   },
   "outputs": [
    {
     "data": {
      "text/plain": [
       "int"
      ]
     },
     "execution_count": 4,
     "metadata": {},
     "output_type": "execute_result"
    }
   ],
   "source": [
    "type(z)"
   ]
  },
  {
   "cell_type": "markdown",
   "id": "ef8518c2-7389-4c87-b39e-c614b511a1ac",
   "metadata": {},
   "source": [
    "From this, we can see that Python recognizes the variable z as an integer, which is its name for a round number. A float is a number with a decimal point, such as the result of your average age calculation above:"
   ]
  },
  {
   "cell_type": "code",
   "execution_count": null,
   "id": "3eda707b-c09d-4513-805c-e327fa5077ec",
   "metadata": {
    "tags": []
   },
   "outputs": [],
   "source": [
    "type(average_age)"
   ]
  },
  {
   "cell_type": "markdown",
   "id": "4a446920-0cc5-4d62-a382-3a35ce927ba9",
   "metadata": {},
   "source": [
    "However, these are not the only types of variables in Python! Indeed, most of the power of these programs comes from the 'nonstandard' variable types, which are:\n",
    "- Integers\n",
    "- Floats\n",
    "- Booleans (True or False)\n",
    "- Lists (collections of items)\n",
    "- Dictionaries (collections accessed via \"keys\")\n",
    "- Strings (contained in quotes \"like this\")\n",
    "- Tuples (like lists, but immutable (unchangeable))\n",
    "\n",
    "Each has its own syntax (read, special punctuation) by which it is defined. For example, a boolean can be identified by writing the words True or False, and python will recognize that you've typed those special words (try it below):"
   ]
  },
  {
   "cell_type": "code",
   "execution_count": 5,
   "id": "26197af8-d5ec-41dd-b3a1-261a0a1e1c29",
   "metadata": {
    "tags": []
   },
   "outputs": [
    {
     "name": "stdout",
     "output_type": "stream",
     "text": [
      "True\n"
     ]
    }
   ],
   "source": [
    "true = True\n",
    "print(true)"
   ]
  },
  {
   "cell_type": "markdown",
   "id": "4fd2afa9-00cf-4a72-98e2-13125f699573",
   "metadata": {},
   "source": [
    "Lists are containers that can hold any number/type of items within them. For example:"
   ]
  },
  {
   "cell_type": "code",
   "execution_count": 6,
   "id": "41bfe0d5-57c5-4e6d-8163-b3b86ed68b09",
   "metadata": {
    "tags": []
   },
   "outputs": [],
   "source": [
    "example_list = ['hello', 3, 4.5, 'i am a list']"
   ]
  },
  {
   "cell_type": "markdown",
   "id": "24cf7231-0a28-4e3f-9463-eceff724a116",
   "metadata": {},
   "source": [
    "In practice, we generally want to populate a list with a standard type of variables, but python will allow you to mix up various types as we've done above. Python also includes some simple functions that can generate lists for you. One very useful example is the `range()` function, which generates a list of numbers between a starting number and stopping number, with a certain step size, following the syntax `range(start, stop, step)`. Note that this includes the start number but not the stop number. Test this below:"
   ]
  },
  {
   "cell_type": "code",
   "execution_count": 7,
   "id": "8f981563-2155-4db2-9594-b3e660e4cefa",
   "metadata": {
    "tags": []
   },
   "outputs": [
    {
     "name": "stdout",
     "output_type": "stream",
     "text": [
      "[1, 2, 3, 4, 5, 6, 7, 8, 9, 10]\n"
     ]
    }
   ],
   "source": [
    "count_to_10 = range(1,11)\n",
    "print(list(count_to_10))"
   ]
  },
  {
   "cell_type": "markdown",
   "id": "5d4772f4-5900-4163-9bb4-e14faa6cb684",
   "metadata": {},
   "source": [
    "### Exercise II: skip counting\n",
    "Create a list variable called `skip_count` that contains the numbers between 3 and 100, counting by 3's. Print your list to check that it works as you expected!"
   ]
  },
  {
   "cell_type": "code",
   "execution_count": null,
   "id": "22edc67c-b37a-43b5-b130-5c1cf5c610f9",
   "metadata": {},
   "outputs": [],
   "source": [
    "# your code here\n"
   ]
  },
  {
   "cell_type": "markdown",
   "id": "8bbb7c69-cc7a-49b5-97ba-c42dd2e296e6",
   "metadata": {},
   "source": [
    "We can access individual elements of a list by *indexing* them, which is achieved by counting the number of the list element starting at 0. Syntactically, this is done with square brackets, so to access the second element of our example list from above, we would do:"
   ]
  },
  {
   "cell_type": "code",
   "execution_count": 8,
   "id": "448311a8-f9b1-423a-8163-1336c042b4fd",
   "metadata": {
    "tags": []
   },
   "outputs": [
    {
     "data": {
      "text/plain": [
       "3"
      ]
     },
     "execution_count": 8,
     "metadata": {},
     "output_type": "execute_result"
    }
   ],
   "source": [
    "example_list[1]"
   ]
  },
  {
   "cell_type": "markdown",
   "id": "a2ca10ac-e1dd-4a44-bbe5-8ea68dfbd502",
   "metadata": {},
   "source": [
    "We can access multiple items by *slicing* the list with a colon, as follows:"
   ]
  },
  {
   "cell_type": "code",
   "execution_count": 9,
   "id": "d3eeee20-547f-4de8-90be-411e391c172e",
   "metadata": {
    "tags": []
   },
   "outputs": [
    {
     "data": {
      "text/plain": [
       "['hello', 3]"
      ]
     },
     "execution_count": 9,
     "metadata": {},
     "output_type": "execute_result"
    }
   ],
   "source": [
    "example_list[0:2]"
   ]
  },
  {
   "cell_type": "markdown",
   "id": "6e9a46e1-a5c7-41a8-b851-633877adbf66",
   "metadata": {},
   "source": [
    "The last useful hint for lists is negative indexing--this works the same way as positive indices but just counts from the end of the list, so -1 refers to the last element, -2 to the second to last, and so on. For example:"
   ]
  },
  {
   "cell_type": "code",
   "execution_count": 10,
   "id": "6809e4a0-0b46-4ba0-8922-305d9124026b",
   "metadata": {
    "tags": []
   },
   "outputs": [
    {
     "data": {
      "text/plain": [
       "'i am a list'"
      ]
     },
     "execution_count": 10,
     "metadata": {},
     "output_type": "execute_result"
    }
   ],
   "source": [
    "example_list[-1]"
   ]
  },
  {
   "cell_type": "markdown",
   "id": "f14e0c62-56b7-4c33-ad30-c1659c48bdb2",
   "metadata": {
    "tags": []
   },
   "source": [
    "### Exercise III: Average scores\n",
    "Let's try to apply some of our knowledge by calculating some statistics for a class exam.\n",
    "\n",
    "The scores are (out of 120): 100, 68, 40, 78, 81, 65, 39, 118, 46, 78, 9, 37, 43, 87, 54, 29, 95, 87, 111, 65, 43, 53, 47, 16, 98, 82, 58, 5, 49, 67, 60, 76, 16, 111, 65, 61, 73, 63, 115, 72, 76, 48, 75, 101, 45, 46, 82, 57, 17, 88, 90, 53, 32, 28, 50, 91, 93, 7, 63, 88, 55, 37, 67, 0, 79.\n",
    "\n",
    "Your first step to analyzing these numbers should be to put them in a list (call it `scores`). Do that in a cell below (you can copy and paste from above, just add the list syntax)."
   ]
  },
  {
   "cell_type": "code",
   "execution_count": null,
   "id": "00d49434-89c3-48c5-bf7f-2528d6cf9339",
   "metadata": {},
   "outputs": [],
   "source": [
    "# your code here\n"
   ]
  },
  {
   "cell_type": "markdown",
   "id": "dd9a10a0-8759-4857-a755-6964f17c7405",
   "metadata": {},
   "source": [
    "Now calculate the average score and save it in the variable `average_score`. You might find it helpful to use the `sum()` and `len()` functions that are built into python. "
   ]
  },
  {
   "cell_type": "code",
   "execution_count": null,
   "id": "0fccdbc2-51ac-4573-bf54-7c53dd8bfea8",
   "metadata": {},
   "outputs": [],
   "source": [
    "# your code here\n"
   ]
  },
  {
   "cell_type": "markdown",
   "id": "90788868-ae15-486b-bc75-60e037269d02",
   "metadata": {},
   "source": [
    "Now convert this score into a percent to get a sense for how well the students did."
   ]
  },
  {
   "cell_type": "code",
   "execution_count": null,
   "id": "d2e0d635-e82c-4da6-acc2-491fba716fb3",
   "metadata": {},
   "outputs": [],
   "source": [
    "# your code here\n"
   ]
  },
  {
   "cell_type": "markdown",
   "id": "4bd671e0-ed97-40ed-a0cc-9aeb267b06e2",
   "metadata": {},
   "source": [
    "You just did this directly, but there are some packages that have built-in functions that can do these calculations for you. One of the most powerful is the numerical python package, abbreviated as `numpy`. To get some practice finding python functions online, find the numpy function that calculates the average of a list. Note that the below cell also demonstrates how to import a public python package that you have downloaded and use its commands. In this case, we're converting our list to a numpy array, which has a good deal more functionality than the native python list."
   ]
  },
  {
   "cell_type": "code",
   "execution_count": null,
   "id": "e38fc649-3cec-40e4-ade2-c7701b49c728",
   "metadata": {},
   "outputs": [],
   "source": [
    "import numpy as np # this is a common abbreviation that will save us some keystrokes\n",
    "\n",
    "scores_array = np.array(scores) # converts our scores list to a numpy array\n",
    "\n",
    "# your code here"
   ]
  },
  {
   "cell_type": "markdown",
   "id": "ba215c99-896b-4232-bf8d-166251348d25",
   "metadata": {},
   "source": [
    "Let's now take this opportunity to understand what a *function* in python is. A function in python is similar to the functions you might be used to thinking about from math class, meaning that it is an object that takes in an input, does an operation, and spits out an output. For example, in the function \n",
    "$$f(x) = 2x+3$$\n",
    "$f$ is the function, $x$ is the argument, and $2x+3$ is the operation of the function. The `range()` function we used before is a simple example in python. It takes the start number, stop number, and step size as arguments and returns a list of numbers according to that combination of arguments as we saw. The numpy functions you used above are also examples of functions that other people have built to make python even more powerful. \n",
    "\n",
    "We used some functions from the numpy package already, so let's try another one, called `matplotlib` and allows us to make plots/graphs easily. Below, we'll import the matplotlib library of functions and plot our simple function."
   ]
  },
  {
   "cell_type": "code",
   "execution_count": 11,
   "id": "c6a72dc7-dce1-4b5d-98b9-63d4223fa2f2",
   "metadata": {
    "tags": []
   },
   "outputs": [
    {
     "data": {
      "image/png": "[encoded data removed]",
      "text/plain": [
       "<Figure size 640x480 with 1 Axes>"
      ]
     },
     "metadata": {},
     "output_type": "display_data"
    }
   ],
   "source": [
    "import matplotlib.pyplot as plt # another common abbreviation\n",
    "import numpy as np\n",
    "\n",
    "x = np.linspace(0, 100, 100) # a numpy function that generates a list similarly to range (but with different syntax!)\n",
    "f = 2*x + 3\n",
    "\n",
    "plt.plot(x, f)\n",
    "plt.show()"
   ]
  },
  {
   "cell_type": "markdown",
   "id": "3cce53ee-4e69-4b08-95c3-72e69bd64a30",
   "metadata": {},
   "source": [
    "Now let's try loading in some data from a file. This is something you'll do pretty frequently in astronomy as your telescope data will come packaged in a file that then needs to be read into the program. We'll dive into this more deeply next week, but for now, let's focus on a relatively simple example. You'll notice that there is a file ('grade_list.txt') in your notebook directory. Try using the `numpy.loadtxt()` function to read in this data. You'll have to look up the syntax for the function to do this."
   ]
  },
  {
   "cell_type": "code",
   "execution_count": null,
   "id": "58593f6e-d758-45b8-a44d-870e64322487",
   "metadata": {},
   "outputs": [],
   "source": [
    "class_grades = # your code here"
   ]
  },
  {
   "cell_type": "markdown",
   "id": "c57df1de-df6f-4f64-9e9f-532005ca2885",
   "metadata": {},
   "source": [
    "Now that we have the data loaded, let's inspect it. To this point, we've been inspecting our variables by printing them or just entering them into the cell. However, this list is a bit bigger than what we've been working with so far, so let's try and print this out element by element using a *for-loop*. A for loop lets you abbreviate some sort of repetitive operation while an object known as an iterator increments itself with every iteration. For example, we can iterate through the class_grades array and print each name as follows:"
   ]
  },
  {
   "cell_type": "code",
   "execution_count": null,
   "id": "b26ea740-cc2e-45e7-aed5-e1d454477d42",
   "metadata": {},
   "outputs": [],
   "source": [
    "for i in range(len(class_grades)):\n",
    "    print(class_grades[i][0])"
   ]
  },
  {
   "cell_type": "markdown",
   "id": "60069983-3368-4f69-9b1d-b08b3253fc14",
   "metadata": {},
   "source": [
    "First note our familiar `range` function. By saying `range(len(class_grades))`, we generated a list of numbers between 0 and the length of the class_grades array. Then, we used this by saying `for i in range(len(class_grades))`, which tells it that we want to step through this list of numbers one by one and call each element `i`. Every step, the computer executes the second line, meaning that it'll access the `i`th element of the list and print the zeroth element of that subsequence (the student's name). Once it reaches the final step, the loop terminates and the program is complete. In sum, we told the computer \"Hey, for every \"thing\" in class grades, print out that \"thing\" indexed at 0.\"\n",
    "\n",
    "A related operation is doing a conditional statement, referred to as an *if-statement*. These statements follow a logical train of thought, which is to say that they execute commands as \"if ((this)) is true, do ((that)). if ((this other thing is true)) do ((something else)). if none of the preceding statements are true, do ((this final thing))\". In practice, we might write such a statement as"
   ]
  },
  {
   "cell_type": "code",
   "execution_count": null,
   "id": "f86caa49-40f4-4dd6-adae-902de30d1872",
   "metadata": {},
   "outputs": [],
   "source": [
    "if(len(class_grades) >= 50):\n",
    "    print(\"This is a large class.\")\n",
    "elif(len(class_grades) > 20 and len(class_grades) < 50):\n",
    "    print(\"This is a medium-sized class.\")\n",
    "else:\n",
    "    print(\"This is a small class.\")"
   ]
  },
  {
   "cell_type": "markdown",
   "id": "e2a12d60-9390-43c7-b046-1bf110f142c6",
   "metadata": {},
   "source": [
    "In detail, a conditional statement takes a boolean as its input and executes the body of the statement if the boolean is true. As you can see above, the statement `len(class_grades) >= 50` is a boolean that will be true if the array of grades has more than 50 elements, meaning that there are more than 50 students in the class. If the array is smaller than that amount, the code will proceed past that step and check the next boolean. The simplest comparisons that one can make are greater than (>), greater than or equal to (>=), the opposite for less than, and equality (==). In other words, to check if there are 75 students in the class, I could write the line:"
   ]
  },
  {
   "cell_type": "code",
   "execution_count": null,
   "id": "e5741ba3-d7c0-42b1-be68-40363b488876",
   "metadata": {},
   "outputs": [],
   "source": [
    "len(class_grades)==75"
   ]
  },
  {
   "cell_type": "markdown",
   "id": "bdd69ee0-9934-4c4d-91fe-5f75611157ae",
   "metadata": {},
   "source": [
    "and this will return true or false, depending on the number of students in the class.\n",
    "\n",
    "Okay, now we've learned about loops and conditionals. The final useful basic piece that we should cover is writing our own functions. Using functions from numpy and matplotlib is convenient and powerful, but writing your own functions will make your code even more effective, as you can combine repeated tasks together into a nice package that can be easily reused. The basic syntax for a function is the following:\n",
    "\n",
    "```\n",
    "def function_name(arg1, arg2, ...):\n",
    "    first task to do in function  \n",
    "    second task to do in function    \n",
    "    return output\n",
    "```\n",
    "For example, if I wanted to write a function to calculate the average score in a given list of scores, I would do:"
   ]
  },
  {
   "cell_type": "code",
   "execution_count": null,
   "id": "3530dd78-cf81-435f-b5f2-2db94f5c26c9",
   "metadata": {
    "tags": []
   },
   "outputs": [],
   "source": [
    "def average_score(score_list):\n",
    "    sum_of_scores = sum(score_list)\n",
    "    num_of_scores = len(score_list)\n",
    "    return sum_of_scores/num_of_scores\n",
    "\n",
    "score_list = np.zeros(len(class_grades))\n",
    "for i in range(len(class_grades)):\n",
    "    score_list[i] = float(class_grades[i][1])\n",
    "    \n",
    "avg_score = average_score(score_list)\n",
    "print(avg_score)"
   ]
  },
  {
   "cell_type": "markdown",
   "id": "001a8535-5fc8-4f78-8ee7-3f2e6c50ae19",
   "metadata": {},
   "source": [
    "To get the list of just scores, you'll notice that I had to take the score component of each element in the `class_grades` array and convert it to a float, which was then saved in the ith element of a new array called `score_list`. Finally, we passed this into our function and got the average score. Of course, we could have just used numpy's built-in function for this, but where's the fun in that! \n",
    "\n",
    "As a final task, let's try putting everything together. Write a function that calculates the average score for students whose names start with a given letter. This means the function should have inputs for the array of scores, the array of students' names, and a letter of choice, and should return the average score for students whose names begin with that letter."
   ]
  },
  {
   "cell_type": "code",
   "execution_count": null,
   "id": "af3d6f8f-df81-4ea7-8df2-74188fafd36a",
   "metadata": {},
   "outputs": [],
   "source": [
    "# your code here\n"
   ]
  }
 ],
 "metadata": {
  "kernelspec": {
   "display_name": "Python 3 (ipykernel)",
   "language": "python",
   "name": "python3"
  },
  "language_info": {
   "codemirror_mode": {
    "name": "ipython",
    "version": 3
   },
   "file_extension": ".py",
   "mimetype": "text/x-python",
   "name": "python",
   "nbconvert_exporter": "python",
   "pygments_lexer": "ipython3",
   "version": "3.11.2"
  }
 },
 "nbformat": 4,
 "nbformat_minor": 5
}
