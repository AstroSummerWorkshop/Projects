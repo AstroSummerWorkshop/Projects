{
 "cells": [
  {
   "attachments": {},
   "cell_type": "markdown",
   "metadata": {
    "id": "epSVWQl299Bk"
   },
   "source": [
    "# Using Spectroscopy to Study Galaxies\n",
    "\n",
    "## What is a Spectrum?\n",
    "Light, similar to sound, is energy that travels as a wave (a wave of electric and magnetic fields in the case of light). The *wavelength* of light just describes the distance between peaks in a traveling light wave. The figure below shows a wave with its wavelength labeled.\n",
    "\n",
    "![figure1](images/wavelength_6.png)\n",
    "\n",
    "It is rare for anything to emit light at just *one* wavelength, however. Almost everything that we see is made up of light at many different wavelengths. Let's imagine that we wanted to know how much light of each wavelength is being emitted by a light source, say the Sun. To accomplish this, we can take a *spectrum*, meaning that we split the light into its component colors or wavelengths. This is what a prism does when it makes a rainbow out of sunlight: it splits up light from the Sun into all of the visible colors from red to violet, as shown below. \n",
    "\n",
    "![figure2](images/prismcolors.png)\n",
    "\n",
    "Similar to sunlight, when we collect the light from a star or a galaxy and spread it out, we can study how bright something is at each wavelength: a.k.a., its spectrum. Analyzing the spectrum of an object tells us a lot of information: its temperature, what it's made of, how fast it's moving, and more.\n",
    "\n",
    "## How Do we Get so Much Information from a Spectrum?\n",
    "When we split up the light coming from a light bulb (for example) and look at its spectrum, it looks like a smooth rainbow, like the top panel of the figure below, where the x-axis is wavelength in nanometers. But, if you take hydrogen gas, super heat it/shock into a glowing plasma, and take a spectrum of the glowing hydrogen, it will look like the bottom panel of the figure below, with light only showing up at very specific wavelengths.\n",
    "\n",
    "![figure3](images/spectrum.png)\n",
    "\n",
    "These features at specific wavelengths are called *emission lines*. Each chemical element gives off light at particular wavelengths when its atoms get excited (like in a hot plasma), so these lines act like a fingerprint that tells us which elements are present. You can see examples below of emission lines coming from other elements, acting as unique \"fingerprints\" for each element.\n",
    "\n",
    "![figure4](images/element_spectra.png)\n",
    "\n",
    "## What Produces Emission Lines in a Galaxy?\n",
    "Hot plasma may not be common here on Earth, but it is quite common in galaxies! Emission lines in galaxies are mostly produced by clouds of gas and plasma that are being energized by nearby sources of energy, usually ultraviolet light, x-rays, or collisions. These gas clouds are part of the interstellar medium (ISM), which fills the space between stars. We will elaborate on this in the next section.\n",
    "\n",
    "Young, hot stars can heat the surrounding hydrogen gas and cause it to glow, producing strong hydrogen emission lines.\n",
    "\n",
    "Exploding stars (supernovae), stellar winds, and supermassive black holes (AGN) can also energize the gas and influence the shape of the spectrum.\n",
    "\n",
    "## What is the Interstellar Medium (ISM)?\n",
    "You may have heard that space is a vacuum, but this isn't completely true. The reason that people say this is because, compared to Earth's atmosphere, the matter in space is *extremely* diffuse. To give you an idea of how diffuse this gas is, Earth's atmosphere has roughly $10^{19}$ particles per cubic centimeter. In many regions of the ISM, you will typically find $10^2 - 10^4$ particles per cubic centimeter. In other words, the Earth's atmosphere can be up to **one hundred thousand trillion** times denser than the ISM! And yet, even though it is widely spread out, there is so much material in the ISM that it emits enormous amounts of light when it is energized.\n",
    "\n",
    "The interstellar medium is made of gas (mostly hydrogen and helium) and dust that fills the space between stars in a galaxy, and it plays a very important role in galaxy evolution. New stars form out of this gas, and the deaths of stars return energy and elements back into the medium. When the gas in the ISM is heated or ionized, it produces *emission lines*, just like the ones shown in the images above.\n",
    "\n",
    "## Redshift ($z$) and the Expanding Universe?\n",
    "We have known since the 1920s that the universe is expanding, which means that distant galaxies appear to be moving away from us. When light from a distant galaxy is emitted, it travels towards the Earth through the expanding Universe, and this causes the light waves to become stretched out, like a slinky. This effect causes the entire spectrum to \"shift\" toward redder colors and is known as **redshift**. The more distant a galaxy is, the more that its light is \"redshifted\". You can see this effect in the image below. By measuring how much the light is redshifted, astronomers can determine how far away a galaxy is and learn about the history and expansion of the universe.\n",
    "\n",
    "![figure5](images/Measuring_Distance_With_Redshift.jpg)\n",
    "\n",
    "## Observed Wavelength and Redshift\n",
    "\n",
    "When we observe a distant, \"redshifted\" galaxy's spectrum, we see that the wavelengths of its emission lines are at redder (larger) wavelengths compared to where they would appear in a laboratory. This **redshift** ($z$) is calculated by relating the **observed wavelength** $\\lambda_{\\text{obs}}$ to the **rest-frame (original/laboratory) wavelength** $\\lambda_{\\text{rest}}$ using the equation:\n",
    "\n",
    "$$\n",
    "\\lambda_{\\text{obs}} = \\lambda_{\\text{rest}} (1 + z)\n",
    "$$\n",
    "\n",
    "Below, we see an image showing how a galaxy's spectrum changes depending on its redshift, or how far away it is. See any emission lines that look familiar in the top panel? (*Hint: Look at the Hydrogen emission line spectrum in one of the images above.*)\n",
    "\n",
    "![figure6](images/galaxy_redshift_illustration.png)"
   ]
  },
  {
   "cell_type": "markdown",
   "metadata": {
    "id": "9tuV4CU6eE4V"
   },
   "source": [
    "# The goal of this project:\n",
    "\n",
    "Now that you know what redshift is and how it affects spectra, you're ready to apply that knowledge to real data.  \n",
    "\n",
    "In this project, you'll measure the observed wavelength of an emission line in several galaxy spectra and match each one to its known redshift. Then, you'll perform a linear fit to determine the line's rest-frame wavelength and figure out which element it comes from!\n",
    "\n",
    "---"
   ]
  },
  {
   "cell_type": "markdown",
   "metadata": {
    "id": "eMyWSVSb-fPF"
   },
   "source": [
    "# Important emission lines in galaxy spectra\n",
    "\n",
    "> Coding learning goal: \n",
    ">*   Locate files and directories, and identify the corresponding paths\n",
    ">*   Read and understand what a function does and how to use it\n",
    ">*   Plot a spectrum\n",
    "\n",
    "Let's look at a nice spectrum of a galaxy!"
   ]
  },
  {
   "cell_type": "code",
   "execution_count": null,
   "metadata": {
    "id": "7dp7RhILgAoK"
   },
   "outputs": [],
   "source": [
    "import numpy as np\n",
    "import matplotlib.pyplot as plt\n",
    "from scipy.optimize import curve_fit\n",
    "from astropy.table import Table\n",
    "from astropy.io import fits\n",
    "import pandas as pd\n",
    "import os\n",
    "import sys\n",
    "from glob import glob\n",
    "sys.path.append('./scripts/')\n",
    "from helper_functions import *"
   ]
  },
  {
   "cell_type": "code",
   "execution_count": null,
   "metadata": {
    "id": "QDdPhE0RhBsw"
   },
   "outputs": [],
   "source": [
    "# Define the data directory\n",
    "\n",
    "# example: raw_data_dir = 'data/raw_spectra/'\n",
    "raw_data_dir = 'FIXME_the_name_of_the_folder/'  # Where the spectra are stored\n",
    "figure_dir = 'FIXME_the_name_of_the_folder/'    # Where you want to save plots"
   ]
  },
  {
   "cell_type": "markdown",
   "metadata": {},
   "source": [
    "<div class=\"alert alert-block alert-warning\">\n",
    "If you see <b>\"FIXME\"</b>, it means that you should edit or write that part of the code before running the cell.\n",
    "</div>"
   ]
  },
  {
   "cell_type": "markdown",
   "metadata": {},
   "source": [
    "Look through these premade functions. Do you roughly understand what they do?"
   ]
  },
  {
   "cell_type": "code",
   "execution_count": null,
   "metadata": {},
   "outputs": [],
   "source": [
    "def read_spectrum(filename):\n",
    "    \"\"\"\n",
    "    Reads a FITS file from JWST and returns the spectrum data.\n",
    "    \n",
    "    Parameters:\n",
    "    filename (str): The path to the FITS file.\n",
    "    \n",
    "    Returns:\n",
    "    wavelength (numpy.ndarray): The wavelength data from the spectrum.\n",
    "    flux (numpy.ndarray): The flux data from the spectrum.\n",
    "    \"\"\"\n",
    "    \n",
    "    t = Table.read(filename)\n",
    "\n",
    "    wavelength = t['wavelength']\n",
    "    flux = t['flux']\n",
    "\n",
    "    return wavelength, flux"
   ]
  },
  {
   "cell_type": "code",
   "execution_count": null,
   "metadata": {
    "id": "zMlagYU9-lw3"
   },
   "outputs": [],
   "source": [
    "# Pre-made function to plot a spectrum\n",
    "def plot_spectrum(filename, wave_range=None, fig=None, ax=None):\n",
    "    \"\"\"\n",
    "    Plots the spectrum from the given filename.\n",
    "\n",
    "    Parameters:\n",
    "        filename (str): Path to the spectrum file.\n",
    "        wave_range (tuple, optional): (wave_min, wave_max) for x-axis limits.\n",
    "        fig (matplotlib.figure.Figure, optional): Existing figure to use.\n",
    "        ax (matplotlib.axes.Axes, optional): Existing axes to use.\n",
    "\n",
    "    Returns:\n",
    "        fig, ax: The figure and axis containing the plot.\n",
    "    \"\"\"\n",
    "    wave, flux = read_spectrum(filename)\n",
    "\n",
    "    # Apply wavelength range if specified\n",
    "    if wave_range is not None:\n",
    "        wave_min, wave_max = wave_range\n",
    "\n",
    "        # Create a mask to isolate the wavelength region\n",
    "        mask = (wave >= wave_min) & (wave <= wave_max)\n",
    "\n",
    "        # Apply the mask to the wavelength and flux arrays\n",
    "        wave = wave[mask]\n",
    "        flux = flux[mask]\n",
    "\n",
    "    # Create figure and axis if not provided\n",
    "    if ax is None or fig is None:\n",
    "        fig, ax = plt.subplots(figsize=(8, 4))\n",
    "\n",
    "    # Plot the spectrum\n",
    "    ax.step(wave, flux, where='mid', color='black', lw=1)\n",
    "    ax.set_xlabel('Wavelength [Å]')\n",
    "    ax.set_ylabel('Flux')\n",
    "\n",
    "    if wave_range is not None:\n",
    "        ax.set_xlim(wave_min, wave_max)\n",
    "\n",
    "    return fig, ax\n"
   ]
  },
  {
   "cell_type": "markdown",
   "metadata": {},
   "source": [
    "## Plot a spectrum"
   ]
  },
  {
   "cell_type": "code",
   "execution_count": null,
   "metadata": {
    "id": "pqpgj3AF-yWi"
   },
   "outputs": [],
   "source": [
    "# Read in a spectrum and plot it!\n",
    "\n",
    "# Specify the file name of the spectrum\n",
    "spectrum_fn = 'galaxy_110_goods-n-mediumjwst_spectrum.fits'\n",
    "\n",
    "# Plot the spectrum!\n",
    "# First, let's define a figure and axis\n",
    "fig, ax = plt.subplots(1,1, figsize=(8,4))\n",
    "\n",
    "# Now, let's use the plot_spectrum() function we saw above\n",
    "fig, ax = plot_spectrum(raw_data_dir+spectrum_fn, fig=fig, ax=ax)"
   ]
  },
  {
   "cell_type": "markdown",
   "metadata": {
    "id": "QRn0RlYX-_Kk"
   },
   "source": [
    "Awesome! You just plotted a spectrum of a galaxy! Notice that we did this by using a function called `plot_spectrum()` that we created above. Make sure you understand what is happening in the function.\n",
    "\n",
    "What kind of features can you see in the spectrum? Continuum? Emission lines? Absorption lines? \n"
   ]
  },
  {
   "cell_type": "markdown",
   "metadata": {},
   "source": [
    "## Zoom in on some emission lines\n",
    "\n",
    "Emission lines act like fingerprints for chemicals and elements in galaxies --- once you find a pattern, you start spotting them in most other spectra. Let's zoom into an easily recognizable group of 3 emission lines around 25000 Angstroms..."
   ]
  },
  {
   "cell_type": "code",
   "execution_count": null,
   "metadata": {
    "id": "GeN3cWs1-yUL"
   },
   "outputs": [],
   "source": [
    "# Define the range of wavelengths to zoom in on\n",
    "min_wave = 23000 #Angstroms  You should edit this \n",
    "max_wave = 26000 #Angstroms  You should edit this too\n",
    "test_wave_range = [min_wave, max_wave]   # Create a list with the min and max wavelength\n",
    "\n",
    "fig, ax = plt.subplots(1,1, figsize=(6,4))\n",
    "\n",
    "# Input the additional argument \"wave_range\" to plot_spectrum() \n",
    "# to zoom in on a specific wavelength range\n",
    "fig, ax = plot_spectrum(raw_data_dir+spectrum_fn, fig=fig, ax=ax, wave_range=test_wave_range)"
   ]
  },
  {
   "cell_type": "markdown",
   "metadata": {},
   "source": [
    "If the spectrum is not zoomed in enough, try changing `min_wave` and `max_wave` to capture the 3 emission lines better"
   ]
  },
  {
   "cell_type": "markdown",
   "metadata": {},
   "source": [
    "## Find the same group of emission lines in a different spectrum\n",
    "\n",
    "Now, let's plot another spectrum. Can you find this group of emission lines in a new spectrum? Try zooming into the group of lines. Are they still at around 25000 Angstroms?"
   ]
  },
  {
   "cell_type": "code",
   "execution_count": null,
   "metadata": {
    "id": "rFTeIo69-yO9"
   },
   "outputs": [],
   "source": [
    "# Specify another file name \n",
    "spectrum_fn = 'FIXME_spectrum2.fits'\n",
    "\n",
    "# Define a new wavelength range\n",
    "min_wave = FIXME #Angstroms\n",
    "max_wave = FIXME #Angstroms\n",
    "test_wave_range = [min_wave, max_wave]\n",
    "\n",
    "fig, ax = plt.subplots(1,1, figsize=(6,4))\n",
    "fig, ax = plot_spectrum(raw_data_dir+spectrum_fn, fig=fig, ax=ax, wave_range=test_wave_range)"
   ]
  },
  {
   "cell_type": "markdown",
   "metadata": {
    "id": "RPOV8V8JAPbn"
   },
   "source": [
    "What is the approximate wavelength of the ***rightmost emission line***? Note that this is not the wavelength you would see in a laboratory!\n",
    "\n",
    "The emission lines of far-away galaxies are often redshifted away from what they would look like in a laboratory. Since the wavelength of an emission line of a redshifted galaxy isn't its true wavelength, we call it the ***\"observed wavelength\"***.\n",
    "\n",
    "***"
   ]
  },
  {
   "cell_type": "markdown",
   "metadata": {
    "id": "5o6Vf8JNAc0K"
   },
   "source": [
    "# Using code to find the wavelength of an emission line\n",
    "\n",
    "> Coding learning goal: \n",
    ">*  Using a premade function to fit an emission line \n",
    ">*  Overlay a curve on an existing plot\n",
    "\n",
    "While we can try to figure out the observed wavelength of emission lines by eye and hope for the best, that's not very scientific... Is the emission line exactly at one single wavelength? \n",
    "\n",
    "What we can do instead, is write some code to find the \"center\" of an emission line. The function `fit_gaussian()` helps us create a model emission line that best matches the one in the spectrum. After it figures out the best model, it tells us what the emission line \"center\" of this model is."
   ]
  },
  {
   "cell_type": "markdown",
   "metadata": {},
   "source": [
    "Let's try to run `fit_gaussian()` to our first spectrum and see what it outputs, specifically the ***rightmost emission line in the group of three*** we saw earlier. You can also find this function in the `helper_functions.py` script in the scripts directory."
   ]
  },
  {
   "cell_type": "code",
   "execution_count": null,
   "metadata": {
    "id": "Rqk2TqMPA-xC"
   },
   "outputs": [],
   "source": [
    "# Run fit_gaussian() on the first spectrum\n",
    "\n",
    "spectrum_fn = 'galaxy_110_goods-n-mediumjwst_spectrum.fits'\n",
    "\n",
    "# Define a new wavelength range (good practice to re-set it here)\n",
    "min_wave = FIXME #nm\n",
    "max_wave = FIXME #nm\n",
    "test_wave_range = [min_wave, max_wave]\n",
    "\n",
    "fit, fit_err = fit_gaussian(raw_data_dir+spectrum_fn, wave_range=test_wave_range)\n"
   ]
  },
  {
   "cell_type": "code",
   "execution_count": null,
   "metadata": {},
   "outputs": [],
   "source": [
    "# Let's plot the spectrum and the best-fit Gaussian together\n",
    "\n",
    "# First, use read_spectrum() to get the wavelength array for plotting\n",
    "wave, flux = read_spectrum(raw_data_dir+spectrum_fn)\n",
    "\n",
    "# Apply the gaussian function to the wavelength array\n",
    "flux_fit = gaussian(wave, *fit)  \n",
    "# Note: *fit unpacks the fit array into individual parameters\n",
    "# This is the same as gaussian(wave, fit[0], fit[1], fit[2], fit[3], fit[4])\n",
    "\n",
    "# Now for plotting, display the spectrum first\n",
    "fig, ax = FIXME \n",
    "FIXME \n",
    "FIXME\n",
    "FIXME\n",
    "\n",
    "# Then, plot the best-fit Gaussian\n",
    "ax.plot(wave, flux_fit, color='red', lw=2, label='Best-fit Gaussian')\n",
    "ax.set_title(f'Spectrum with Best-fit Gaussian for {spectrum_fn}')\n",
    "ax.legend()\n",
    "plt.show()"
   ]
  },
  {
   "cell_type": "markdown",
   "metadata": {},
   "source": [
    "We will need to plot Gaussian fits many times later. Turning this into a function will save us time later..."
   ]
  },
  {
   "cell_type": "code",
   "execution_count": null,
   "metadata": {},
   "outputs": [],
   "source": [
    "# Can you turn this plotting code into a function?\n",
    "\n",
    "def plot_gaussian_fit(filename, wave_range=None, fig=None, ax=None):\n",
    "    \"\"\"\n",
    "    Plots the spectrum and the best-fit Gaussian for a given filename.\n",
    "\n",
    "    Parameters:\n",
    "        filename (str): Path to the spectrum file.\n",
    "        wave_range (tuple, optional): (wave_min, wave_max) for x-axis limits.\n",
    "        fig (matplotlib.figure.Figure, optional): Existing figure to use.\n",
    "        ax (matplotlib.axes.Axes, optional): Existing axes to use.\n",
    "\n",
    "    Returns:\n",
    "        fig, ax: The figure and axis containing the plot.\n",
    "    \"\"\"\n",
    "    # Fit the Gaussian to the spectrum\n",
    "    FIXME\n",
    "    FIXME\n",
    "\n",
    "    # Read the spectrum data and create the fit curve\n",
    "    FIXME\n",
    "    FIXME\n",
    "\n",
    "    if ax is None or fig is None:\n",
    "        fig, ax = plt.subplots(figsize=(6, 4))\n",
    "\n",
    "    # Plot the spectrum and the best-fit Gaussian\n",
    "    fig, ax = FIXME\n",
    "    ax.plot(FIXME)\n",
    "\n",
    "    ax.set_title(FIXME)\n",
    "    ax.legend()\n",
    "\n",
    "    return fig, ax"
   ]
  },
  {
   "cell_type": "code",
   "execution_count": null,
   "metadata": {
    "id": "y7acBX4ZBaqL"
   },
   "outputs": [],
   "source": [
    "# Print out the best-fit parameters\n",
    "print(f\"Best-fit parameters for spectrum in {spectrum_fn}\")\n",
    "print(f\"Amplitude: {fit[0]:.3f}\") # :.3f means print 3 decimal places\n",
    "print(f\"Center: {fit[1]:.3f}\")\n",
    "print(f\"Width: {fit[2]:.3f}\")\n",
    "print(f\"Slope: {fit[3]:.3f}\")\n",
    "print(f\"Intercept: {fit[4]:.3f}\")\n"
   ]
  },
  {
   "cell_type": "markdown",
   "metadata": {
    "id": "JZbQo2N4C2CI"
   },
   "source": [
    "What is the observed wavelength of the emission line?  "
   ]
  },
  {
   "cell_type": "markdown",
   "metadata": {},
   "source": [
    "## Do the same process for the second spectrum"
   ]
  },
  {
   "cell_type": "code",
   "execution_count": null,
   "metadata": {},
   "outputs": [],
   "source": [
    "# Now, let's repeat the fitting for the second spectrum\n",
    "spectrum_fn = 'FIXME_spectrum2.fits'\n",
    "\n",
    "FIXME\n",
    "FIXME\n",
    "FIXME\n",
    "\n"
   ]
  },
  {
   "cell_type": "code",
   "execution_count": null,
   "metadata": {},
   "outputs": [],
   "source": [
    "FIXME\n",
    "FIXME\n",
    "FIXME\n",
    "FIXME\n"
   ]
  },
  {
   "cell_type": "markdown",
   "metadata": {},
   "source": [
    "How different are the observed wavelengths of this emission line in spectrum 1 and spectrum 2? \n",
    "\n",
    "***"
   ]
  },
  {
   "cell_type": "markdown",
   "metadata": {
    "id": "QOjU2dXJC3V9"
   },
   "source": [
    "# Fitting emission lines in many spectra\n",
    "\n",
    "Now that we've found the wavelength of an emission line in one spectrum, let's do the same procedure for a whole bunch of spectra!"
   ]
  },
  {
   "cell_type": "markdown",
   "metadata": {
    "id": "YxEQs_ewC-N4"
   },
   "source": [
    "## Crop the spectra and save the wavelength ranges\n",
    "\n",
    "> Coding learning goal:\n",
    ">*  Read in filenames from a directory\n",
    ">*  Create a pandas DataFrame to save filenames and corresponding info\n",
    ">*  Save a list of information to a .csv file\n",
    "\n",
    "First of all, we need to isolate the one emission line in each spectrum so our fitting code doesn't get confused. You will need to manually inspect each spectrum and determine the wavelength range to crop."
   ]
  },
  {
   "cell_type": "code",
   "execution_count": null,
   "metadata": {
    "id": "QcbyPLspDCd_"
   },
   "outputs": [],
   "source": [
    "# Load in 10 spectra\n",
    "\n",
    "# Use os.listdir to get the filenames\n",
    "filenames_arr = os.listdir(raw_data_dir)\n",
    "# Filter the filenames to only include .fits files\n",
    "filenames_arr = [fn for fn in filenames_arr if fn.endswith('.fits')]\n",
    "# Limit to the first 10 filenames\n",
    "few_filenames_arr = filenames_arr[:10]  # Adjust the number as needed"
   ]
  },
  {
   "cell_type": "markdown",
   "metadata": {},
   "source": [
    "Now that we have a list of the 10 spectra, let's display them one at a time and save the wavelength range for each spectrum in \"wave_range_list\".  "
   ]
  },
  {
   "cell_type": "code",
   "execution_count": null,
   "metadata": {},
   "outputs": [],
   "source": [
    "# Initialize an array to store the wavelength ranges for each spectrum\n",
    "#### DON'T RUN THIS AFTER YOU HAVE STARTED THE NEXT CELL! ####\n",
    "wave_range_list = np.zeros((len(few_filenames_arr), 2))"
   ]
  },
  {
   "cell_type": "code",
   "execution_count": null,
   "metadata": {
    "id": "xUhHEYx-DexZ"
   },
   "outputs": [],
   "source": [
    "file_no = 0    # Change this number from 0 to 9... FIXME\n",
    "\n",
    "spectrum_fn = few_filenames_arr[file_no]\n",
    "\n",
    "# Define a new wavelength range\n",
    "min_wave = FIXME #nm\n",
    "max_wave = FIXME #nm\n",
    "test_wave_range = [min_wave, max_wave]\n",
    "\n",
    "fig, ax = plt.subplots(1,1, figsize=(6,4))\n",
    "fig, ax = plot_spectrum(raw_data_dir+spectrum_fn, fig=fig, ax=ax, wave_range=test_wave_range)\n",
    "\n",
    "# Save the test_wave_range to wave_range_list\n",
    "wave_range_list[file_no] = test_wave_range"
   ]
  },
  {
   "cell_type": "code",
   "execution_count": null,
   "metadata": {},
   "outputs": [],
   "source": [
    "# Let's check what the wave_range_list looks like\n",
    "print(\"Wave range list:\")\n",
    "print(wave_range_list)"
   ]
  },
  {
   "cell_type": "markdown",
   "metadata": {},
   "source": [
    "After filling wave_range_list, we can save the min_wave and max_wave with the corresponding filename. "
   ]
  },
  {
   "cell_type": "code",
   "execution_count": null,
   "metadata": {
    "id": "620XmsfdDepD"
   },
   "outputs": [],
   "source": [
    "# Save filename and wave_range_list into a .csv file\n",
    "\n",
    "# Create a pandas DataFrame to store the filenames and wave ranges\n",
    "df = pd.DataFrame({\n",
    "    'filename': few_filenames_arr,\n",
    "    'min_wave': wave_range_list[:, 0],\n",
    "    'max_wave': wave_range_list[:, 1]\n",
    "})\n",
    "\n",
    "# Save the DataFrame to a CSV file\n",
    "output_filename = 'waveranges.csv'\n",
    "df.to_csv(output_filename, index=False)"
   ]
  },
  {
   "cell_type": "markdown",
   "metadata": {},
   "source": [
    "<div class=\"alert alert-block alert-info\">\n",
    "Make sure you understand how to create a DataFrame and save it to a .csv file... We will be doing this a lot later.\n",
    "</div>"
   ]
  },
  {
   "cell_type": "code",
   "execution_count": null,
   "metadata": {},
   "outputs": [],
   "source": [
    "# Print the DataFrame to check\n",
    "print(df)"
   ]
  },
  {
   "cell_type": "markdown",
   "metadata": {
    "id": "q090ctDvJccH"
   },
   "source": [
    "Just to save you some time, we helped you crop about 50 other spectra! Let's load them in and add them to the file you created above..."
   ]
  },
  {
   "cell_type": "code",
   "execution_count": null,
   "metadata": {},
   "outputs": [],
   "source": [
    "# Load in the premade waveranges .csv file\n",
    "premade_waverange_fn = 'FIXME/FIXME/premade_waveranges.csv'\n",
    "\n",
    "# Read the CSV file into a pandas DataFrame\n",
    "premade_df = pd.read_csv(premade_waverange_fn)\n",
    "# Remove the rows that contain the same filename as the original df\n",
    "cropped_premade_df = premade_df[~premade_df['filename'].isin(few_filenames_arr)]\n",
    "\n",
    "# Combine the two dataframes\n",
    "combined_df = pd.concat([df, cropped_premade_df], ignore_index=True)\n",
    "# Save the combined DataFrame to a new CSV file\n",
    "combined_output_filename = 'combined_waveranges.csv'\n",
    "combined_df.to_csv(combined_output_filename, index=False)"
   ]
  },
  {
   "cell_type": "markdown",
   "metadata": {},
   "source": [
    "***"
   ]
  },
  {
   "cell_type": "markdown",
   "metadata": {
    "id": "L3Q59uK_Jimn"
   },
   "source": [
    "## For Loop to apply the procedure on many spectra\n",
    "\n",
    "> Coding learning goal: \n",
    ">*  Write for loops to apply a procedure to many files\n",
    ">*  Append data to a list\n",
    "\n",
    "Now that we have 55 spectra, we wouldn't want to manually change the file_no 55 times to perform our Gaussian fitting. Let us learn how to write a for loop to make the computer do the repetitious work for us!"
   ]
  },
  {
   "cell_type": "code",
   "execution_count": null,
   "metadata": {
    "id": "c7Kqb_VTHghJ"
   },
   "outputs": [],
   "source": [
    "# Before doing anything, we need to read in the big list of filenames and wavelength ranges\n",
    "\n",
    "# Read the CSV file into a pandas DataFrame\n",
    "combined_output_filename = 'combined_waveranges.csv'\n",
    "combined_df = pd.read_csv(combined_output_filename)\n",
    "\n",
    "filename_arr = combined_df['filename'].values\n",
    "min_wave_arr = FIXME\n",
    "max_wave_arr = FIXME"
   ]
  },
  {
   "cell_type": "code",
   "execution_count": null,
   "metadata": {},
   "outputs": [],
   "source": [
    "# First, initialize an empty list to store the fitted line centers\n",
    "fitted_centers = []\n",
    "fitted_centers_err = []\n",
    "\n",
    "# Now, create a For Loop to go through each row\n",
    "for row in FIXME FIXME:\n",
    "\n",
    "    # Get the filename and waveranges for a specific galaxy\n",
    "    spectrum_fn = FIXME\n",
    "    min_wave = FIXME\n",
    "    max_wave = FIXME\n",
    "    wave_range = [min_wave, max_wave]\n",
    "\n",
    "    # Fit a Gaussian to the spectrum\n",
    "    fit, fit_err = FIXME\n",
    "\n",
    "    # We want the line center, which is index 1\n",
    "    center = FIXME\n",
    "    center_err = FIXME\n",
    "\n",
    "    # Add this info into our empty lists\n",
    "    fitted_centers.append(center)\n",
    "    fitted_centers_err.append(center_err)\n",
    "\n",
    "    # Just to make sure the code is running correcting in general,\n",
    "    # we can display a few of the fitted Gaussians.\n",
    "    # Let's do this for every 10 spectra:\n",
    "    if row%10 == 0:\n",
    "        fig, ax = plt.subplots(figsize=(3,3))\n",
    "        fig, ax = plot_gaussian_fit(raw_data_dir+spectrum_fn, wave_range=wave_range, fig=fig, ax=ax)\n",
    "    \n",
    "    \n",
    "# Turn the lists into numpy arrays\n",
    "fitted_centers = np.array(fitted_centers)\n",
    "fitted_centers_err = np.array(fitted_centers_err)"
   ]
  },
  {
   "cell_type": "code",
   "execution_count": null,
   "metadata": {
    "id": "MCAp7_PxC9tT"
   },
   "outputs": [],
   "source": [
    "# Save the arrays to the combined output .csv file\n",
    "\n",
    "# Make a new dataframe with the filename, fitted_centers, and fitted_centers_err\n",
    "fit_df = FIXME FIXME FIXME\n",
    "\n",
    "# Save the DataFrame to a CSV file\n",
    "fit_filename = 'fitted_centers.csv'\n",
    "FIXME\n",
    "FIXME"
   ]
  },
  {
   "cell_type": "markdown",
   "metadata": {},
   "source": [
    "***"
   ]
  },
  {
   "cell_type": "markdown",
   "metadata": {
    "id": "92AmdxsAP6Kh"
   },
   "source": [
    "# Adding redshift information to our catalog\n",
    "\n",
    "> Coding learning goal:\n",
    ">*  Read in a .csv file as a pandas DataFrame\n",
    ">*  Transfer information from one file into our main file\n",
    "\n",
    "Astronomers have previously observed these galaxies and figured out their redshifts. These values are recorded in the file `redshift_catalogs.csv`. Read in the redshifts and add them to your table with filenames and fitted line centers."
   ]
  },
  {
   "cell_type": "code",
   "execution_count": null,
   "metadata": {
    "id": "wPgNW1muRH2l"
   },
   "outputs": [],
   "source": [
    "redshift_catalog_fn = 'FIXME/FIXME/redshift_catalogs.csv'\n",
    "\n",
    "# Read the CSV file into a pandas DataFrame\n",
    "redshift_catalog_df = FIXME\n",
    "\n",
    "# Merge the fitted centers with the redshift catalog\n",
    "merged_df = pd.merge(fit_df, redshift_catalog_df, on='filename', how='outer')\n",
    "\n",
    "# Save the merged DataFrame to a new CSV file\n",
    "merged_output_filename = 'FIXME.csv'\n",
    "FIXME FIXME"
   ]
  },
  {
   "cell_type": "markdown",
   "metadata": {},
   "source": [
    "***"
   ]
  },
  {
   "cell_type": "markdown",
   "metadata": {
    "id": "X-7wNgrzX3nX"
   },
   "source": [
    "# Plotting our results\n",
    "\n",
    "> Coding learning goal:\n",
    ">*  Plot data points\n",
    ">*  Fit a line to data points and plot the line\n",
    "\n",
    "Now that we have a list of observed emission line centers and corresponding redshifts, we can study how wavelengths vary with redshift. First, we need to create an *observed wavelength vs. redshift* plot."
   ]
  },
  {
   "cell_type": "markdown",
   "metadata": {
    "id": "dCoMckoTY6xy"
   },
   "source": [
    "## Observed wavelength vs. redshift\n",
    "\n",
    "What data should we have as the x-axis and y-axis?"
   ]
  },
  {
   "cell_type": "code",
   "execution_count": null,
   "metadata": {
    "id": "_DyHlLQcRHyR"
   },
   "outputs": [],
   "source": [
    "# Read the merged output file\n",
    "FIXME\n",
    "FIXME\n",
    "\n",
    "# Populate a redshift array (x)\n",
    "x = FIXME\n",
    "\n",
    "# Populate an observed wavelength array (y)\n",
    "y = FIXME\n",
    "\n",
    "# Populate an error array (y_err)\n",
    "y_err = FIXME"
   ]
  },
  {
   "cell_type": "code",
   "execution_count": null,
   "metadata": {
    "id": "JbyiBGOGQCUm"
   },
   "outputs": [],
   "source": [
    "# Plot the data with error bars\n",
    "fig, ax = plt.subplots(figsize=(6, 5))\n",
    "\n",
    "ax.errorbar(x, y, yerr=y_err, fmt='o')\n",
    "ax.set_xlabel('FIXME')\n",
    "ax.set_ylabel(r'FIXME')\n",
    "ax.set_title('Observed Wavelength vs. Redshift')\n"
   ]
  },
  {
   "cell_type": "markdown",
   "metadata": {
    "id": "UDxZpeDiZO0A"
   },
   "source": [
    "## Fit a model to the data\n",
    "\n",
    "We will try to fit a straight line through the data points. Recall that the equation of a line is<br>\n",
    "$y = m \\times x + b$<br>\n",
    "where $m$ is the slope and $b$ is the y-intercept.<p>\n",
    "\n",
    "Let's make this equation a little clearer by labeling $y$ as the observed wavelength $\\lambda_{\\mathrm{obs}}$ and $x$ as the redshift $z$:<br>\n",
    "$\\lambda_{\\mathrm{obs}} = m \\times z + b $ "
   ]
  },
  {
   "cell_type": "code",
   "execution_count": null,
   "metadata": {
    "id": "ughGH1szZRsg"
   },
   "outputs": [],
   "source": [
    "# Define the equation\n",
    "\n",
    "def straight_line(z, FIXME, FIXME, ):\n",
    "  return FIXME"
   ]
  },
  {
   "cell_type": "code",
   "execution_count": null,
   "metadata": {
    "id": "oH7Ci8zuaQvS"
   },
   "outputs": [],
   "source": [
    "# Use scipy.optimize.curve_fit() to fit the data\n",
    "\n",
    "# Get rid of NaN values in x and y\n",
    "valid_indices = ~np.isnan(x) & ~np.isnan(y)\n",
    "x = x[valid_indices]\n",
    "y = y[valid_indices]\n",
    "y_err = y_err[valid_indices]\n",
    "\n",
    "fit, cov = curve_fit(straight_line, x, y)\n",
    "\n",
    "# Extract the slope and intercept from the fit parameters\n",
    "slope = fit[0]\n",
    "intercept = fit[1]\n",
    "\n",
    "# Get the fit errors\n",
    "err = np.sqrt(np.diag(cov))\n",
    "slope_err = err[0]\n",
    "intercept_err = err[1]\n",
    "\n",
    "# Print the fit parameters and errors\n",
    "print(f\"Slope (m): {slope:.3f} ± {slope_err:.3f}\")\n",
    "print(f\"Intercept (b): {intercept:.3f} ± {intercept_err:.3f}\")"
   ]
  },
  {
   "cell_type": "markdown",
   "metadata": {
    "id": "pcoSGgb3aW8z"
   },
   "source": [
    "## Plot our best-fit line"
   ]
  },
  {
   "cell_type": "code",
   "execution_count": null,
   "metadata": {},
   "outputs": [],
   "source": [
    "# Get the fitted line values\n",
    "fitted_line = straight_line(x, slope, intercept)"
   ]
  },
  {
   "cell_type": "code",
   "execution_count": null,
   "metadata": {
    "id": "rzxjoBd5aU6-"
   },
   "outputs": [],
   "source": [
    "# Plot data and overlay best-fit\n",
    "fig, ax = plt.subplots(figsize=(6, 5))\n",
    "\n",
    "ax.errorbar(FIXME FIXME)\n",
    "ax.plot(FIXME)\n",
    "\n",
    "# Add text box with fit parameters\n",
    "ax.text(0.05, 0.95, f'Slope: {slope:.3f} ± {slope_err:.3f}\\nIntercept: {intercept:.3f} ± {intercept_err:.3f}',\n",
    "        transform=ax.transAxes, fontsize=10, verticalalignment='top', bbox=dict(facecolor='white', alpha=0.8, edgecolor='black'))\n",
    "\n",
    "ax.set_xlabel('Redshift')\n",
    "ax.set_ylabel(r'Observed Wavelength ($\\AA$)')\n",
    "ax.set_title('Observed Wavelength vs. Redshift')\n",
    "ax.legend()\n",
    "\n",
    "# fig.savefig(figure_dir+'redshift_vs_observed_wavelength.png', dpi=300)"
   ]
  },
  {
   "cell_type": "markdown",
   "metadata": {
    "id": "JgAHhAgRaiQM"
   },
   "source": [
    "# What is the rest wavelength of this emission line?\n",
    "\n",
    "Turns out, the actual equation for the redshifting of observed wavelength is<br>\n",
    "$\\lambda_{\\mathrm{obs}} = \\lambda_{\\mathrm{rest}} \\times (1+z)$.<p>\n",
    "\n",
    "According to our equation $\\lambda_{\\mathrm{obs}} = m \\times z + b $, what do $m$ and $b$ correspond to?\n",
    "\n",
    "How close was your straight line to matching the redshifting equation?\n",
    "\n",
    "What is the rest wavelength $\\lambda_{\\mathrm{rest}}$ of our emission line?"
   ]
  },
  {
   "cell_type": "markdown",
   "metadata": {
    "id": "94cBNFJDas2U"
   },
   "source": [
    "<div class=\"alert alert-block alert-success\">\n",
    "<b>Congratulations!</b><p>\n",
    "You just finished this redshift project. You should now have some experience with:\n",
    "<ul>\n",
    "    <li>Locating files/directories and accessing them via their paths</li>\n",
    "    <li>Reading function definitions and understanding how to use them</li>\n",
    "    <li>Plotting a spectrum and overlaying fitted curves</li>\n",
    "    <li>Loading data from .csv files and saving data to them</li>\n",
    "    <li>Using pandas DataFrame to manipulate large lists</li>\n",
    "    <li>Fitting models to data (Gaussians and straight lines)</li>\n",
    "    <li>Writing For Loops to perform the same analysis to a large set of data</li>\n",
    "    <li>Comparing results with physical equations</li>\n",
    "</div>"
   ]
  },
  {
   "cell_type": "markdown",
   "metadata": {},
   "source": [
    "# Things to include in your presentation\n",
    "\n",
    "Instrument and data:\n",
    "*   All the spectra you saw were taken by the James Webb Space Telescope (JWST), specifically the instrument called NIRSpec. What is so special about them? Is this telescope new? How far away is it from Earth?\n",
    "\n",
    "Background info about galaxies and redshifting:\n",
    "*   Why are the spectra of some galaxies redshifted? What determines how redshifted a galaxy is?\n",
    "*   What does a typical galaxy spectrum look like? What features are there?\n",
    "\n",
    "What you did in this project:\n",
    "*   What was the goal of this project? What were the main analysis steps you performed?\n",
    "*   Show some of the plots you made!\n",
    "*   What is the emission line you found here? \n",
    "*   What chemical element produces this line? Is it an important element?"
   ]
  }
 ],
 "metadata": {
  "colab": {
   "provenance": []
  },
  "kernelspec": {
   "display_name": "Python 3 (ipykernel)",
   "language": "python",
   "name": "python3"
  },
  "language_info": {
   "codemirror_mode": {
    "name": "ipython",
    "version": 3
   },
   "file_extension": ".py",
   "mimetype": "text/x-python",
   "name": "python",
   "nbconvert_exporter": "python",
   "pygments_lexer": "ipython3",
   "version": "3.9.18"
  }
 },
 "nbformat": 4,
 "nbformat_minor": 4
}
