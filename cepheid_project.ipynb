{
 "cells": [
  {
   "attachments": {},
   "cell_type": "markdown",
   "metadata": {},
   "source": [
    "# Cepheid Variables & Leavitt's Law"
   ]
  },
  {
   "cell_type": "markdown",
   "metadata": {},
   "source": [
    "## Background\n",
    "Measuring distances is difficult. Unlike on earth where we can just take out a measuring tape, Astronomers have to figure out standards of distance; these standards make up what is known as the Distance Ladder.\n",
    "\n",
    "![image](distance_ladder.jpg)\n",
    "\n",
    "One way we can measure distances is with the distance modulus:\n",
    "### $m - M = 5\\log_{10}(\\frac{d}{10 \\textrm{pc}})$\n",
    "where $m$ is its apparent magnitude (what we see), $M$ is its intrinsic magnitude, and $d$ is its distance in parsecs. If, then, we know the intrinsic magnitude of a star, we can figure out how far away it is and measure its distance.\n",
    "\n",
    "A Cepheid variable is a type of pulsating star. In the 1800s while studying a collection of Cepheid variables, Henrietta Swan Leavitt discovered that the logarithm of the pulsation period of Cepheids is lineary related to its intrinsic luminosity. \n",
    "\n",
    "![image](440px-HSLeavittHSCr13Fig2_1912.jpg)\n",
    "\n",
    "### By the end of this project, you will be able to explain:\n",
    "- Measuring distances across space\n",
    "- Variable stars\n",
    "- Leavitt's law, the Period-Luminosity relation"
   ]
  },
  {
   "cell_type": "markdown",
   "metadata": {},
   "source": [
    "## Learning Questions\n",
    "Please watch the following videos and answer these questions below.\n",
    "- Cepheid Variables: https://www.youtube.com/watch?v=BWs-ONRDDG4\n",
    "- The Distance Ladder: https://www.youtube.com/watch?v=rV-Z6jk9Fkw"
   ]
  },
  {
   "cell_type": "markdown",
   "metadata": {},
   "source": [
    "### Q1. What is a Cepheid Variable and why can we measure distances with them?"
   ]
  },
  {
   "cell_type": "markdown",
   "metadata": {},
   "source": []
  },
  {
   "cell_type": "markdown",
   "metadata": {},
   "source": [
    "### Q2. What is the distance ladder?"
   ]
  },
  {
   "cell_type": "markdown",
   "metadata": {},
   "source": []
  },
  {
   "cell_type": "markdown",
   "metadata": {},
   "source": [
    "### Q3. Why are Cepheids a good standard candle?"
   ]
  },
  {
   "cell_type": "markdown",
   "metadata": {},
   "source": []
  },
  {
   "cell_type": "markdown",
   "metadata": {},
   "source": [
    "### Q4. How did Edwin Hubble measure distances to other galaxies?"
   ]
  },
  {
   "cell_type": "markdown",
   "metadata": {},
   "source": []
  },
  {
   "cell_type": "markdown",
   "metadata": {},
   "source": [
    "## Project: Deriving Leavitt's Law\n",
    "You will derive your own version of Leavitt's law and estimate the distance to Andromeda (M31), the nearest large galaxy to the Milky Way. "
   ]
  },
  {
   "attachments": {},
   "cell_type": "markdown",
   "metadata": {},
   "source": [
    "## Imports"
   ]
  },
  {
   "cell_type": "code",
   "execution_count": 1,
   "metadata": {},
   "outputs": [],
   "source": [
    "import pandas as pd\n",
    "import matplotlib.pyplot as plt\n",
    "import numpy as np"
   ]
  },
  {
   "cell_type": "markdown",
   "metadata": {},
   "source": [
    "## 1. Load cepheid period, distance, and V-band magnitude\n",
    "\n",
    "We have a catalog of various Cepheids with their periods ($P$) in years, Absolute Magnitude ($MV$), and Apparent Magnitude ($m$).\n",
    "\n",
    "Galactic cepheid data is from the following catalog: Fernie, J.D., Beattie, B., Evans, N.R., and Seager, S. 1995, IBVS No. 4148"
   ]
  },
  {
   "cell_type": "code",
   "execution_count": 1,
   "metadata": {},
   "outputs": [
    {
     "ename": "NameError",
     "evalue": "name 'pd' is not defined",
     "output_type": "error",
     "traceback": [
      "\u001b[0;31m---------------------------------------------------------------------------\u001b[0m",
      "\u001b[0;31mNameError\u001b[0m                                 Traceback (most recent call last)",
      "\u001b[0;32m<ipython-input-1-3fdcbc2bdc83>\u001b[0m in \u001b[0;36m<module>\u001b[0;34m\u001b[0m\n\u001b[0;32m----> 1\u001b[0;31m \u001b[0mc_data\u001b[0m \u001b[0;34m=\u001b[0m \u001b[0mpd\u001b[0m\u001b[0;34m.\u001b[0m\u001b[0mread_table\u001b[0m\u001b[0;34m(\u001b[0m\u001b[0;34m'cepheids_db.txt'\u001b[0m\u001b[0;34m,\u001b[0m \u001b[0msep\u001b[0m\u001b[0;34m=\u001b[0m\u001b[0;34m'\\s+'\u001b[0m\u001b[0;34m)\u001b[0m\u001b[0;34m\u001b[0m\u001b[0;34m\u001b[0m\u001b[0m\n\u001b[0m\u001b[1;32m      2\u001b[0m \u001b[0;34m\u001b[0m\u001b[0m\n\u001b[1;32m      3\u001b[0m \u001b[0mc_data\u001b[0m\u001b[0;34m\u001b[0m\u001b[0;34m\u001b[0m\u001b[0m\n",
      "\u001b[0;31mNameError\u001b[0m: name 'pd' is not defined"
     ]
    }
   ],
   "source": [
    "c_data = pd.read_table('cepheids_db.txt', sep='\\s+')"
   ]
  },
  {
   "attachments": {},
   "cell_type": "markdown",
   "metadata": {},
   "source": [
    "## 2. Playing with the distance modulus\n",
    "\n",
    "### $m - M = 5\\log_{10}(\\frac{d}{10 \\textrm{pc}})$\n",
    "\n",
    "where:\n",
    "\n",
    "- $m$ = apparent magnitude\n",
    "- $M$ = absolute magnitude \n",
    "- $d$ = distance in parsec (pc)"
   ]
  },
  {
   "attachments": {},
   "cell_type": "markdown",
   "metadata": {},
   "source": [
    "### Solve the distance modulus for $M$ knowing $d$ and $m$\n"
   ]
  },
  {
   "cell_type": "markdown",
   "metadata": {},
   "source": []
  },
  {
   "cell_type": "markdown",
   "metadata": {},
   "source": [
    "## 3. Calulate the Distance to a Cepheid of you choice using what you solved above"
   ]
  },
  {
   "cell_type": "markdown",
   "metadata": {},
   "source": []
  },
  {
   "cell_type": "markdown",
   "metadata": {},
   "source": [
    "## 4. Plot the Period-Luminosity relationship"
   ]
  },
  {
   "cell_type": "code",
   "execution_count": 2,
   "metadata": {},
   "outputs": [
    {
     "ename": "SyntaxError",
     "evalue": "invalid syntax (<ipython-input-2-ed2d66ab95ad>, line 1)",
     "output_type": "error",
     "traceback": [
      "\u001b[0;36m  File \u001b[0;32m\"<ipython-input-2-ed2d66ab95ad>\"\u001b[0;36m, line \u001b[0;32m1\u001b[0m\n\u001b[0;31m    plt.scatter(, alpha=0.8)\u001b[0m\n\u001b[0m                ^\u001b[0m\n\u001b[0;31mSyntaxError\u001b[0m\u001b[0;31m:\u001b[0m invalid syntax\n"
     ]
    }
   ],
   "source": [
    "plt.scatter(, alpha=0.8)\n",
    "plt.xscale('log')\n",
    "plt.xlim(0,100)\n",
    "plt.gca().invert_yaxis()\n",
    "plt.show()"
   ]
  },
  {
   "cell_type": "markdown",
   "metadata": {},
   "source": [
    "## 5. Estimate the Period-Luminosity relationship\n",
    "Fit a line to this function using the relationship: $y = mx + b$\n"
   ]
  },
  {
   "cell_type": "markdown",
   "metadata": {},
   "source": []
  },
  {
   "cell_type": "markdown",
   "metadata": {},
   "source": [
    "## 6. Hubble's Cepheid (M31 V1)\n",
    "Hubble's cepheid is in M31 (Andromeda) and was used to calculate the distance to the galaxy."
   ]
  },
  {
   "cell_type": "markdown",
   "metadata": {},
   "source": [
    "### Estimate the period of M31 V1"
   ]
  },
  {
   "cell_type": "code",
   "execution_count": 9,
   "metadata": {},
   "outputs": [
    {
     "data": {
      "image/png": "[encoded data removed]",
      "text/plain": [
       "<Figure size 640x480 with 1 Axes>"
      ]
     },
     "metadata": {},
     "output_type": "display_data"
    }
   ],
   "source": [
    "df = pd.read_csv('/Users/zohaggard/Desktop/aavsodata_64a49d2422f48.txt')\n",
    "plt.scatter(df['JD'], df['Magnitude'])\n",
    "plt.show()"
   ]
  },
  {
   "cell_type": "markdown",
   "metadata": {},
   "source": [
    "### Using M31 V1, what is the distance to Andromeda? \n",
    "hint: use your period-luminosity relationship!"
   ]
  },
  {
   "cell_type": "markdown",
   "metadata": {},
   "source": []
  }
 ],
 "metadata": {
  "interpreter": {
   "hash": "40b05493ddcf8e9507683538249caa61aa01626b793e566d994882f595f5286b"
  },
  "kernelspec": {
   "display_name": "Python 3.7.11 ('astroconda37')",
   "language": "python",
   "name": "python3"
  },
  "language_info": {
   "codemirror_mode": {
    "name": "ipython",
    "version": 3
   },
   "file_extension": ".py",
   "mimetype": "text/x-python",
   "name": "python",
   "nbconvert_exporter": "python",
   "pygments_lexer": "ipython3",
   "version": "3.7.11"
  },
  "orig_nbformat": 4
 },
 "nbformat": 4,
 "nbformat_minor": 2
}
